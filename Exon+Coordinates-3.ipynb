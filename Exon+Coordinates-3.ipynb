{
 "cells": [
  {
   "cell_type": "code",
   "execution_count": 1,
   "metadata": {
    "collapsed": true
   },
   "outputs": [],
   "source": [
    "import csv\n",
    "import pandas as pd\n",
    "import numpy as np\n",
    "from Bio import SeqIO\n",
    "from Bio.SeqRecord import SeqRecord"
   ]
  },
  {
   "cell_type": "code",
   "execution_count": 2,
   "metadata": {
    "collapsed": true
   },
   "outputs": [],
   "source": [
    "# import fasta file of cds for chimps and gorillas\n",
    "chimp_cds = SeqIO.to_dict(SeqIO.parse('/Users/toryrichardson/Desktop/Research/chimp_cds.txt','fasta'))\n",
    "gorilla_cds = SeqIO.to_dict(SeqIO.parse('/Users/toryrichardson/Desktop/Research/gorilla_cds.txt','fasta'))"
   ]
  },
  {
   "cell_type": "code",
   "execution_count": 3,
   "metadata": {
    "collapsed": true,
    "scrolled": true
   },
   "outputs": [],
   "source": [
    "chimp_data = pd.DataFrame(pd.read_csv('/Users/toryrichardson/Desktop/Research/chimp_genome_data.txt'))\n",
    "# gets transcript IDs of the longest transcript for each gene\n",
    "chimp_single_long_transcripts = chimp_data.sort_values(\"Transcript length (including UTRs and CDS)\", ascending=False).drop_duplicates(\"Gene stable ID\")\n",
    "chimp_long_transcripts = chimp_single_long_transcripts[\"Transcript stable ID\"].tolist()\n",
    "# gets list of corresponding gene IDs to longest transcripts\n",
    "chimp_long_genes = chimp_single_long_transcripts[\"Gene stable ID\"].tolist()\n",
    "# gets data table of genes with the longest transcripts only\n",
    "chimp_all_long_transcripts = chimp_data[chimp_data[\"Transcript stable ID\"].isin(chimp_long_transcripts)]  "
   ]
  },
  {
   "cell_type": "code",
   "execution_count": 4,
   "metadata": {
    "collapsed": true
   },
   "outputs": [],
   "source": [
    "gorilla_data = pd.DataFrame(pd.read_csv('/Users/toryrichardson/Desktop/Research/gorilla_genome_data.txt'))\n",
    "# gets transcript IDs of the longest transcript for each gene\n",
    "gorilla_single_long_transcripts = gorilla_data.sort_values(\"Transcript length (including UTRs and CDS)\", ascending=False).drop_duplicates(\"Gene stable ID\")\n",
    "gorilla_long_transcripts = gorilla_single_long_transcripts[\"Transcript stable ID\"].tolist()\n",
    "# gets list of corresponding gene IDs to longest transcripts\n",
    "gorilla_long_genes = gorilla_single_long_transcripts[\"Gene stable ID\"].tolist()\n",
    "# gets data table of genes with the longest transcripts only\n",
    "gorilla_all_long_transcripts = gorilla_data[gorilla_data[\"Transcript stable ID\"].isin(gorilla_long_transcripts)] "
   ]
  },
  {
   "cell_type": "code",
   "execution_count": 5,
   "metadata": {
    "collapsed": true
   },
   "outputs": [],
   "source": [
    "chimp_ids = dict(zip(chimp_long_genes, chimp_long_transcripts))\n",
    "gorilla_ids = dict(zip(gorilla_long_genes, gorilla_long_transcripts))"
   ]
  },
  {
   "cell_type": "code",
   "execution_count": 6,
   "metadata": {
    "collapsed": true
   },
   "outputs": [],
   "source": [
    "def get_coordinates(data, sequences, transcriptId):\n",
    "    exonRows = data[data[\"Transcript stable ID\"]==transcriptId].sort_values(\"Exon rank in transcript\")\n",
    "    sequence = sequences[transcriptId].seq \n",
    "    start_coords = []\n",
    "    end_coords = []\n",
    "    if (exonRows[\"Strand\"] < 0).all():\n",
    "        exonRows = exonRows[::-1]\n",
    "    for (index, exon) in exonRows.iterrows():\n",
    "        exon_range = set(range(int(exon[\"Exon region start (bp)\"]), int(exon[\"Exon region end (bp)\"]+1)))\n",
    "        if not pd.isnull(exon[\"5' UTR start\"]):\n",
    "            utr5 = set(range(int(exon[\"5' UTR start\"]), int(exon[\"5' UTR end\"]+1)))\n",
    "            if min(exon_range) < min(utr5):\n",
    "                start = min(exon_range)\n",
    "                end = min(utr5)-1\n",
    "            elif min(exon_range) > min(utr5):\n",
    "                start = max(utr5)\n",
    "                end = max(exon_range)\n",
    "            else:\n",
    "                start = max(utr5)\n",
    "                end = max(exon_range)\n",
    "        elif not pd.isnull(exon[\"3' UTR start\"]):\n",
    "            utr3 = set(range(int(exon[\"3' UTR start\"]), int(exon[\"3' UTR end\"]+1)))\n",
    "            if min(exon_range) < min(utr3):\n",
    "                start = min(exon_range)\n",
    "                end = min(utr3)-1\n",
    "            elif min(exon_range) > min(utr3):\n",
    "                start = max(utr3)\n",
    "                end = max(exon_range)\n",
    "            else:\n",
    "                start = max(utr3)\n",
    "                end = max(exon_range)\n",
    "        else:\n",
    "            start = min(exon_range)\n",
    "            end = max(exon_range)\n",
    "        start_coords.append(start)\n",
    "        end_coords.append(end)\n",
    "    coords = list(zip(start_coords, end_coords))\n",
    "    return (coords, sequence)"
   ]
  },
  {
   "cell_type": "code",
   "execution_count": null,
   "metadata": {
    "scrolled": true
   },
   "outputs": [],
   "source": [
    "%%time\n",
    "for i in chimp_long_genes:\n",
    "    temp = get_coordinates(chimp_all_long_transcripts, chimp_cds, str(chimp_ids.get(i)))\n",
    "    coords = (SeqRecord(temp[-1], id=str(i) + \"|\" + str(chimp_ids.get(i)), description=str(temp[0])))\n",
    "    SeqIO.write(coords, \"%s.chimp.txt\"%chimp_ids.get(i), \"fasta\")"
   ]
  },
  {
   "cell_type": "code",
   "execution_count": 20,
   "metadata": {},
   "outputs": [
    {
     "name": "stdout",
     "output_type": "stream",
     "text": [
      "CPU times: user 8min 21s, sys: 7.13 s, total: 8min 29s\n",
      "Wall time: 42min 11s\n"
     ]
    }
   ],
   "source": [
    "%%time\n",
    "for i in gorilla_long_genes:\n",
    "    temp = get_coordinates(gorilla_all_long_transcripts, gorilla_cds, str(gorilla_ids.get(i)))\n",
    "    coords = (SeqRecord(temp[-1], id=str(i) + \"|\" + str(gorilla_ids.get(i)), description=str(temp[0])))\n",
    "    SeqIO.write(coords, \"%s.gorilla.txt\"%gorilla_ids.get(i), \"fasta\")"
   ]
  }
 ],
 "metadata": {
  "kernelspec": {
   "display_name": "Python 3",
   "language": "python",
   "name": "python3"
  },
  "language_info": {
   "codemirror_mode": {
    "name": "ipython",
    "version": 3
   },
   "file_extension": ".py",
   "mimetype": "text/x-python",
   "name": "python",
   "nbconvert_exporter": "python",
   "pygments_lexer": "ipython3",
   "version": "3.6.1"
  },
  "widgets": {
   "application/vnd.jupyter.widget-state+json": {
    "state": {},
    "version_major": 1,
    "version_minor": 0
   }
  }
 },
 "nbformat": 4,
 "nbformat_minor": 2
}
